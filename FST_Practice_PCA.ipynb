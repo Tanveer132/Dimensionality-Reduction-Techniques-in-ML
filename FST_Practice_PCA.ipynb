{
  "nbformat": 4,
  "nbformat_minor": 0,
  "metadata": {
    "colab": {
      "name": "FST_Practice_PCA.ipynb",
      "provenance": [],
      "authorship_tag": "ABX9TyNSF8Bp3VVnNak8jjgJsQgh",
      "include_colab_link": true
    },
    "kernelspec": {
      "name": "python3",
      "display_name": "Python 3"
    },
    "language_info": {
      "name": "python"
    }
  },
  "cells": [
    {
      "cell_type": "markdown",
      "metadata": {
        "id": "view-in-github",
        "colab_type": "text"
      },
      "source": [
        "<a href=\"https://colab.research.google.com/github/Tanveer132/Dimensionality-Reduction-Techniques-in-ML/blob/main/FST_Practice_PCA.ipynb\" target=\"_parent\"><img src=\"https://colab.research.google.com/assets/colab-badge.svg\" alt=\"Open In Colab\"/></a>"
      ]
    },
    {
      "cell_type": "markdown",
      "metadata": {
        "id": "a11tzye8jOx_"
      },
      "source": [
        "#Principal Component Analysis\n",
        "\n",
        ">1. using numpy\n",
        "\n",
        ">2. using pca in sklearn.decomposision"
      ]
    },
    {
      "cell_type": "code",
      "metadata": {
        "id": "IcMaFsd5jFli"
      },
      "source": [
        "import numpy as np\n",
        "from numpy.linalg import eig\n",
        "from sklearn.decomposition import PCA"
      ],
      "execution_count": 1,
      "outputs": []
    },
    {
      "cell_type": "markdown",
      "metadata": {
        "id": "_BZze1ZLkMB8"
      },
      "source": [
        "##Using numpy"
      ]
    },
    {
      "cell_type": "code",
      "metadata": {
        "colab": {
          "base_uri": "https://localhost:8080/"
        },
        "id": "VgkK4Gu9j7O1",
        "outputId": "f9b9127d-ab03-41ce-c791-a3ed967aabf6"
      },
      "source": [
        "data=np.array([[1,2],[3,4],[5,6]])\n",
        "data"
      ],
      "execution_count": 2,
      "outputs": [
        {
          "output_type": "execute_result",
          "data": {
            "text/plain": [
              "array([[1, 2],\n",
              "       [3, 4],\n",
              "       [5, 6]])"
            ]
          },
          "metadata": {
            "tags": []
          },
          "execution_count": 2
        }
      ]
    },
    {
      "cell_type": "code",
      "metadata": {
        "colab": {
          "base_uri": "https://localhost:8080/"
        },
        "id": "lgPjwPs8kFlt",
        "outputId": "19acf10b-69e5-436f-8084-8235025f1c17"
      },
      "source": [
        "# get scaled data\n",
        "m=np.mean(data,axis=0)\n",
        "\n",
        "scaled_data=m-data\n",
        "scaled_data"
      ],
      "execution_count": 3,
      "outputs": [
        {
          "output_type": "execute_result",
          "data": {
            "text/plain": [
              "array([[ 2.,  2.],\n",
              "       [ 0.,  0.],\n",
              "       [-2., -2.]])"
            ]
          },
          "metadata": {
            "tags": []
          },
          "execution_count": 3
        }
      ]
    },
    {
      "cell_type": "code",
      "metadata": {
        "colab": {
          "base_uri": "https://localhost:8080/"
        },
        "id": "Q_NehD-RkaIt",
        "outputId": "aa14cb8f-8919-43d2-d8a3-f379f79f7997"
      },
      "source": [
        "# get covarience matrix\n",
        "V=np.cov(scaled_data.T)\n",
        "V "
      ],
      "execution_count": 4,
      "outputs": [
        {
          "output_type": "execute_result",
          "data": {
            "text/plain": [
              "array([[4., 4.],\n",
              "       [4., 4.]])"
            ]
          },
          "metadata": {
            "tags": []
          },
          "execution_count": 4
        }
      ]
    },
    {
      "cell_type": "code",
      "metadata": {
        "id": "LYXvkH25ktzx"
      },
      "source": [
        "# get eigen vectors and eigen values\n",
        "values,vectors=eig(V)"
      ],
      "execution_count": 5,
      "outputs": []
    },
    {
      "cell_type": "code",
      "metadata": {
        "colab": {
          "base_uri": "https://localhost:8080/"
        },
        "id": "6ir-HKdRk97k",
        "outputId": "8e1276bc-781b-466c-8b95-916793e81b90"
      },
      "source": [
        "values.T"
      ],
      "execution_count": 6,
      "outputs": [
        {
          "output_type": "execute_result",
          "data": {
            "text/plain": [
              "array([8., 0.])"
            ]
          },
          "metadata": {
            "tags": []
          },
          "execution_count": 6
        }
      ]
    },
    {
      "cell_type": "code",
      "metadata": {
        "colab": {
          "base_uri": "https://localhost:8080/"
        },
        "id": "In-DDhl3lD8_",
        "outputId": "6316ab76-c328-48ba-dd40-1f5ef997565d"
      },
      "source": [
        "vectors.T"
      ],
      "execution_count": 7,
      "outputs": [
        {
          "output_type": "execute_result",
          "data": {
            "text/plain": [
              "array([[ 0.70710678,  0.70710678],\n",
              "       [-0.70710678,  0.70710678]])"
            ]
          },
          "metadata": {
            "tags": []
          },
          "execution_count": 7
        }
      ]
    },
    {
      "cell_type": "code",
      "metadata": {
        "colab": {
          "base_uri": "https://localhost:8080/"
        },
        "id": "uS3LA6NKlGXW",
        "outputId": "648707ab-e932-417a-b0c9-b5e8b5d8532d"
      },
      "source": [
        "# get transformed data\n",
        "P = vectors.T.dot(scaled_data.T)\n",
        "P.T"
      ],
      "execution_count": 8,
      "outputs": [
        {
          "output_type": "execute_result",
          "data": {
            "text/plain": [
              "array([[ 2.82842712,  0.        ],\n",
              "       [ 0.        ,  0.        ],\n",
              "       [-2.82842712,  0.        ]])"
            ]
          },
          "metadata": {
            "tags": []
          },
          "execution_count": 8
        }
      ]
    },
    {
      "cell_type": "markdown",
      "metadata": {
        "id": "ThuAnWFLlc-F"
      },
      "source": [
        "**Conclusion :** Here dimensions reduced from 2 to 1"
      ]
    },
    {
      "cell_type": "markdown",
      "metadata": {
        "id": "x4TClvQ-lj_5"
      },
      "source": [
        "##Using pca in sklearn"
      ]
    },
    {
      "cell_type": "code",
      "metadata": {
        "colab": {
          "base_uri": "https://localhost:8080/"
        },
        "id": "mKUUVCsAlVqN",
        "outputId": "251e35fa-ca6d-4959-c87d-6a851a41e73f"
      },
      "source": [
        "pca=PCA()\n",
        "pca.fit(data)"
      ],
      "execution_count": 9,
      "outputs": [
        {
          "output_type": "execute_result",
          "data": {
            "text/plain": [
              "PCA(copy=True, iterated_power='auto', n_components=None, random_state=None,\n",
              "    svd_solver='auto', tol=0.0, whiten=False)"
            ]
          },
          "metadata": {
            "tags": []
          },
          "execution_count": 9
        }
      ]
    },
    {
      "cell_type": "code",
      "metadata": {
        "colab": {
          "base_uri": "https://localhost:8080/"
        },
        "id": "tdQNFHwjnVSr",
        "outputId": "d46c0112-92a8-4c0f-b1df-eff69e6e43f7"
      },
      "source": [
        "pca.components_"
      ],
      "execution_count": 10,
      "outputs": [
        {
          "output_type": "execute_result",
          "data": {
            "text/plain": [
              "array([[ 0.70710678,  0.70710678],\n",
              "       [-0.70710678,  0.70710678]])"
            ]
          },
          "metadata": {
            "tags": []
          },
          "execution_count": 10
        }
      ]
    },
    {
      "cell_type": "code",
      "metadata": {
        "colab": {
          "base_uri": "https://localhost:8080/"
        },
        "id": "wZIxA3_Qnk8j",
        "outputId": "b38ba0e6-a347-4c0f-9b0f-2927d956b4a8"
      },
      "source": [
        "pca.explained_variance_"
      ],
      "execution_count": 11,
      "outputs": [
        {
          "output_type": "execute_result",
          "data": {
            "text/plain": [
              "array([8., 0.])"
            ]
          },
          "metadata": {
            "tags": []
          },
          "execution_count": 11
        }
      ]
    },
    {
      "cell_type": "code",
      "metadata": {
        "colab": {
          "base_uri": "https://localhost:8080/"
        },
        "id": "1hBtr3D3rbWy",
        "outputId": "780e0564-04d6-4e09-c3e0-cc14c722f143"
      },
      "source": [
        "P=pca.transform(data)\n",
        "P"
      ],
      "execution_count": 14,
      "outputs": [
        {
          "output_type": "execute_result",
          "data": {
            "text/plain": [
              "array([[-2.82842712e+00, -2.22044605e-16],\n",
              "       [ 0.00000000e+00,  0.00000000e+00],\n",
              "       [ 2.82842712e+00,  2.22044605e-16]])"
            ]
          },
          "metadata": {
            "tags": []
          },
          "execution_count": 14
        }
      ]
    },
    {
      "cell_type": "code",
      "metadata": {
        "id": "WYZMjSYUr1he"
      },
      "source": [
        ""
      ],
      "execution_count": null,
      "outputs": []
    }
  ]
}