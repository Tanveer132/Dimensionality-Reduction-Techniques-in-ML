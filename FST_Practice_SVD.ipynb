{
  "nbformat": 4,
  "nbformat_minor": 0,
  "metadata": {
    "colab": {
      "name": "FST_Practice_SVD.ipynb",
      "provenance": [],
      "authorship_tag": "ABX9TyMhWsEdOyzvuM7o7cFuqjQb",
      "include_colab_link": true
    },
    "kernelspec": {
      "name": "python3",
      "display_name": "Python 3"
    },
    "language_info": {
      "name": "python"
    }
  },
  "cells": [
    {
      "cell_type": "markdown",
      "metadata": {
        "id": "view-in-github",
        "colab_type": "text"
      },
      "source": [
        "<a href=\"https://colab.research.google.com/github/Tanveer132/Dimensionality-Reduction-Technoques-in-ML/blob/main/FST_Practice_SVD.ipynb\" target=\"_parent\"><img src=\"https://colab.research.google.com/assets/colab-badge.svg\" alt=\"Open In Colab\"/></a>"
      ]
    },
    {
      "cell_type": "markdown",
      "metadata": {
        "id": "J5KLwAN546sE"
      },
      "source": [
        "#Singular Value Decomposition\n",
        ">**Using numpy.svd**\n",
        "\n",
        ">**Using TruncatedSVD in sklearn.decomposition**\n",
        "\n",
        ">**Using randomized_svd in sklearn.utils.extmath**"
      ]
    },
    {
      "cell_type": "markdown",
      "metadata": {
        "id": "DaxvN43p54Dz"
      },
      "source": [
        "##1. using numpy"
      ]
    },
    {
      "cell_type": "code",
      "metadata": {
        "id": "SYBLvjtZ4tpn"
      },
      "source": [
        "import numpy as np\n",
        "from numpy.linalg import svd"
      ],
      "execution_count": 1,
      "outputs": []
    },
    {
      "cell_type": "code",
      "metadata": {
        "colab": {
          "base_uri": "https://localhost:8080/"
        },
        "id": "-jLAliBS6EVe",
        "outputId": "f76cc9c3-328f-4f42-c34d-0e736215fd98"
      },
      "source": [
        "A=np.array([[1,2,3],[2,-3,4],[3,4,-5]])\n",
        "print(A)"
      ],
      "execution_count": 7,
      "outputs": [
        {
          "output_type": "stream",
          "text": [
            "[[ 1  2  3]\n",
            " [ 2 -3  4]\n",
            " [ 3  4 -5]]\n"
          ],
          "name": "stdout"
        }
      ]
    },
    {
      "cell_type": "code",
      "metadata": {
        "colab": {
          "base_uri": "https://localhost:8080/"
        },
        "id": "FqJJvKcD6Rzl",
        "outputId": "130ae5c9-e236-4e6f-d338-6729394f670f"
      },
      "source": [
        "U,S,Vt=svd(A)\n",
        "print(\"Left Singular Matrix :\\n\",U)\n",
        "print(\"\\n singular matrix :\\n\",np.diag(S))\n",
        "print(\"\\n Right singular matrix :\\n\",Vt)"
      ],
      "execution_count": 4,
      "outputs": [
        {
          "output_type": "stream",
          "text": [
            "Left Singular Matrix :\n",
            " [[ 0.1419502   0.75380251  0.64158547]\n",
            " [ 0.56260227  0.47184715 -0.6788512 ]\n",
            " [-0.81445001  0.4573205  -0.35711221]]\n",
            "\n",
            " singular matrix :\n",
            " [[8.28597167 0.         0.        ]\n",
            " [0.         4.07196614 0.        ]\n",
            " [0.         0.         2.78599448]]\n",
            "\n",
            " Right singular matrix :\n",
            " [[-0.1419502  -0.56260227  0.81445001]\n",
            " [ 0.75380251  0.47184715  0.4573205 ]\n",
            " [-0.64158547  0.6788512   0.35711221]]\n"
          ],
          "name": "stdout"
        }
      ]
    },
    {
      "cell_type": "markdown",
      "metadata": {
        "id": "rahjzQb36-w0"
      },
      "source": [
        "##2. Using TruncatedSVD"
      ]
    },
    {
      "cell_type": "code",
      "metadata": {
        "colab": {
          "base_uri": "https://localhost:8080/"
        },
        "id": "_lZqpfT_620_",
        "outputId": "6e478680-a95f-4a14-d3cc-445b17da36e0"
      },
      "source": [
        "from sklearn.decomposition import TruncatedSVD\n",
        "SVD=TruncatedSVD(n_components=2)            #n_components=2 is less than dimention of data,,,,min should be 2\n",
        "A_trans=SVD.fit_transform(A)\n",
        "print(\"\\n Original matrix :\\n\",A)\n",
        "print(\"\\n singular values :\\n\",SVD.singular_values_)\n",
        "print(\"\\n matrix after reducing 2 components :\\n\",A_trans)"
      ],
      "execution_count": 15,
      "outputs": [
        {
          "output_type": "stream",
          "text": [
            "\n",
            " Original matrix :\n",
            " [[ 1  2  3]\n",
            " [ 2 -3  4]\n",
            " [ 3  4 -5]]\n",
            "\n",
            " singular values :\n",
            " [8.28597167 4.07196614]\n",
            "\n",
            " matrix after reducing 2 components :\n",
            " [[-1.17619531  3.06945831]\n",
            " [-4.66170648  1.9213456 ]\n",
            " [ 6.74850975  1.86219361]]\n"
          ],
          "name": "stdout"
        }
      ]
    },
    {
      "cell_type": "markdown",
      "metadata": {
        "id": "SejoWRrq9Q3L"
      },
      "source": [
        "##2. After Randomized svd"
      ]
    },
    {
      "cell_type": "code",
      "metadata": {
        "colab": {
          "base_uri": "https://localhost:8080/"
        },
        "id": "cfEjWybD7nAz",
        "outputId": "0f668f22-a5ee-4ab4-d849-4606649c973e"
      },
      "source": [
        "from sklearn.utils.extmath import randomized_svd\n",
        "U,S,Vt=randomized_svd(A,n_components=2)\n",
        "\n",
        "print(\"Left Singular Matrix :\\n\",U)\n",
        "print(\"\\n singular matrix :\\n\",np.diag(S))\n",
        "print(\"\\n Right singular matrix :\\n\",Vt)"
      ],
      "execution_count": 16,
      "outputs": [
        {
          "output_type": "stream",
          "text": [
            "Left Singular Matrix :\n",
            " [[-0.1419502   0.75380251]\n",
            " [-0.56260227  0.47184715]\n",
            " [ 0.81445001  0.4573205 ]]\n",
            "\n",
            " singular matrix :\n",
            " [[8.28597167 0.        ]\n",
            " [0.         4.07196614]]\n",
            "\n",
            " Right singular matrix :\n",
            " [[ 0.1419502   0.56260227 -0.81445001]\n",
            " [ 0.75380251  0.47184715  0.4573205 ]]\n"
          ],
          "name": "stdout"
        }
      ]
    },
    {
      "cell_type": "code",
      "metadata": {
        "id": "qq3_rFnL96MT"
      },
      "source": [
        ""
      ],
      "execution_count": null,
      "outputs": []
    }
  ]
}