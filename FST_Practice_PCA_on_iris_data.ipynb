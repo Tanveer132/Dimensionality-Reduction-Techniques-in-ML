{
  "nbformat": 4,
  "nbformat_minor": 0,
  "metadata": {
    "colab": {
      "name": "FST_Practice_PCA on iris data.ipynb",
      "provenance": [],
      "authorship_tag": "ABX9TyMYJOpRe/Y1Oc7PIxDgTIcS",
      "include_colab_link": true
    },
    "kernelspec": {
      "name": "python3",
      "display_name": "Python 3"
    },
    "language_info": {
      "name": "python"
    }
  },
  "cells": [
    {
      "cell_type": "markdown",
      "metadata": {
        "id": "view-in-github",
        "colab_type": "text"
      },
      "source": [
        "<a href=\"https://colab.research.google.com/github/Tanveer132/Dimensionality-Reduction-Techniques-in-ML/blob/main/FST_Practice_PCA_on_iris_data.ipynb\" target=\"_parent\"><img src=\"https://colab.research.google.com/assets/colab-badge.svg\" alt=\"Open In Colab\"/></a>"
      ]
    },
    {
      "cell_type": "markdown",
      "metadata": {
        "id": "ae1Uu6MQstUd"
      },
      "source": [
        "#Principal Component Analysis\n",
        "\n",
        "data- iris data"
      ]
    },
    {
      "cell_type": "code",
      "metadata": {
        "id": "s3xnSAVxsf9B"
      },
      "source": [
        "import pandas as pd\n",
        "import matplotlib.pyplot as plt\n",
        "from sklearn.preprocessing import StandardScaler, LabelEncoder\n",
        "from sklearn.decomposition import PCA\n",
        "from sklearn.model_selection import train_test_split\n",
        "\n",
        "from sklearn.linear_model import LogisticRegression\n",
        "\n",
        "from sklearn.metrics import accuracy_score,classification_report"
      ],
      "execution_count": 1,
      "outputs": []
    },
    {
      "cell_type": "code",
      "metadata": {
        "colab": {
          "base_uri": "https://localhost:8080/",
          "height": 206
        },
        "id": "vJE-_K44wdcr",
        "outputId": "079d9284-72a7-4cdc-e92f-204573d5829d"
      },
      "source": [
        "df=pd.read_csv('/content/iris.csv')\n",
        "df.head()"
      ],
      "execution_count": 2,
      "outputs": [
        {
          "output_type": "execute_result",
          "data": {
            "text/html": [
              "<div>\n",
              "<style scoped>\n",
              "    .dataframe tbody tr th:only-of-type {\n",
              "        vertical-align: middle;\n",
              "    }\n",
              "\n",
              "    .dataframe tbody tr th {\n",
              "        vertical-align: top;\n",
              "    }\n",
              "\n",
              "    .dataframe thead th {\n",
              "        text-align: right;\n",
              "    }\n",
              "</style>\n",
              "<table border=\"1\" class=\"dataframe\">\n",
              "  <thead>\n",
              "    <tr style=\"text-align: right;\">\n",
              "      <th></th>\n",
              "      <th>sepal_length</th>\n",
              "      <th>sepal_width</th>\n",
              "      <th>petal_length</th>\n",
              "      <th>petal_width</th>\n",
              "      <th>species</th>\n",
              "    </tr>\n",
              "  </thead>\n",
              "  <tbody>\n",
              "    <tr>\n",
              "      <th>0</th>\n",
              "      <td>5.1</td>\n",
              "      <td>3.5</td>\n",
              "      <td>1.4</td>\n",
              "      <td>0.2</td>\n",
              "      <td>setosa</td>\n",
              "    </tr>\n",
              "    <tr>\n",
              "      <th>1</th>\n",
              "      <td>4.9</td>\n",
              "      <td>3.0</td>\n",
              "      <td>1.4</td>\n",
              "      <td>0.2</td>\n",
              "      <td>setosa</td>\n",
              "    </tr>\n",
              "    <tr>\n",
              "      <th>2</th>\n",
              "      <td>4.7</td>\n",
              "      <td>3.2</td>\n",
              "      <td>1.3</td>\n",
              "      <td>0.2</td>\n",
              "      <td>setosa</td>\n",
              "    </tr>\n",
              "    <tr>\n",
              "      <th>3</th>\n",
              "      <td>4.6</td>\n",
              "      <td>3.1</td>\n",
              "      <td>1.5</td>\n",
              "      <td>0.2</td>\n",
              "      <td>setosa</td>\n",
              "    </tr>\n",
              "    <tr>\n",
              "      <th>4</th>\n",
              "      <td>5.0</td>\n",
              "      <td>3.6</td>\n",
              "      <td>1.4</td>\n",
              "      <td>0.2</td>\n",
              "      <td>setosa</td>\n",
              "    </tr>\n",
              "  </tbody>\n",
              "</table>\n",
              "</div>"
            ],
            "text/plain": [
              "   sepal_length  sepal_width  petal_length  petal_width species\n",
              "0           5.1          3.5           1.4          0.2  setosa\n",
              "1           4.9          3.0           1.4          0.2  setosa\n",
              "2           4.7          3.2           1.3          0.2  setosa\n",
              "3           4.6          3.1           1.5          0.2  setosa\n",
              "4           5.0          3.6           1.4          0.2  setosa"
            ]
          },
          "metadata": {
            "tags": []
          },
          "execution_count": 2
        }
      ]
    },
    {
      "cell_type": "markdown",
      "metadata": {
        "id": "zfA6Hz1XxNQO"
      },
      "source": [
        "##Clean, Encode and Scale data"
      ]
    },
    {
      "cell_type": "code",
      "metadata": {
        "id": "rcUzXFWuwxbq"
      },
      "source": [
        "le=LabelEncoder()\n",
        "df['species']=le.fit_transform(df['species'])"
      ],
      "execution_count": 3,
      "outputs": []
    },
    {
      "cell_type": "code",
      "metadata": {
        "id": "O-Pz8kbQxh3E"
      },
      "source": [
        "x=df.drop(columns=['species'])\n",
        "y=df['species']\n",
        "xtrain,xtest,ytrain,ytest=train_test_split(x,y,test_size=0.2,random_state=0)"
      ],
      "execution_count": 4,
      "outputs": []
    },
    {
      "cell_type": "code",
      "metadata": {
        "id": "c2_5Hs6Uw8h1"
      },
      "source": [
        "scaler=StandardScaler()\n",
        "xtrain=scaler.fit_transform(xtrain)\n",
        "xtest=scaler.fit_transform(xtest)"
      ],
      "execution_count": 5,
      "outputs": []
    },
    {
      "cell_type": "markdown",
      "metadata": {
        "id": "M4zMjk7VxWal"
      },
      "source": [
        "##fit PCA and find components"
      ]
    },
    {
      "cell_type": "code",
      "metadata": {
        "id": "5QIp1shXzG8u"
      },
      "source": [
        "\n",
        "pca=PCA()\n",
        "xtrain=pca.fit_transform(xtrain)\n",
        "xtest=pca.fit_transform(xtest)\n",
        "\n",
        "model=LogisticRegression()\n",
        "model.fit(xtrain,ytrain)\n",
        "\n",
        "ypred=model.predict(xtest)"
      ],
      "execution_count": 6,
      "outputs": []
    },
    {
      "cell_type": "code",
      "metadata": {
        "colab": {
          "base_uri": "https://localhost:8080/"
        },
        "id": "PPDPolOD0ZI_",
        "outputId": "7ce1c627-2727-41a1-c190-47a99b0c00e6"
      },
      "source": [
        "print(\"Accuracy : \",accuracy_score(ytest,ypred))\n",
        "print(\"\\nReport :\\n\",classification_report(ytest,ypred))"
      ],
      "execution_count": 7,
      "outputs": [
        {
          "output_type": "stream",
          "text": [
            "Accuracy :  0.7666666666666667\n",
            "\n",
            "Report :\n",
            "               precision    recall  f1-score   support\n",
            "\n",
            "           0       1.00      1.00      1.00        11\n",
            "           1       1.00      0.46      0.63        13\n",
            "           2       0.46      1.00      0.63         6\n",
            "\n",
            "    accuracy                           0.77        30\n",
            "   macro avg       0.82      0.82      0.75        30\n",
            "weighted avg       0.89      0.77      0.77        30\n",
            "\n"
          ],
          "name": "stdout"
        }
      ]
    },
    {
      "cell_type": "code",
      "metadata": {
        "colab": {
          "base_uri": "https://localhost:8080/"
        },
        "id": "CQ81-aCOyqLJ",
        "outputId": "d8a8207d-a69c-4147-9c45-6b55db01e888"
      },
      "source": [
        "pca.components_"
      ],
      "execution_count": 8,
      "outputs": [
        {
          "output_type": "execute_result",
          "data": {
            "text/plain": [
              "array([[ 0.49286296, -0.39673799,  0.5615246 ,  0.5332684 ],\n",
              "       [-0.47114873, -0.86864889, -0.07155814, -0.13545262],\n",
              "       [-0.67555659,  0.24994965,  0.12088725,  0.68303349],\n",
              "       [-0.28058559,  0.15991637,  0.81544824, -0.4803568 ]])"
            ]
          },
          "metadata": {
            "tags": []
          },
          "execution_count": 8
        }
      ]
    },
    {
      "cell_type": "code",
      "metadata": {
        "colab": {
          "base_uri": "https://localhost:8080/"
        },
        "id": "_pqTFZyZytu0",
        "outputId": "17ceacc0-c282-4852-c3e9-cf9892445554"
      },
      "source": [
        "pca.explained_variance_ratio_"
      ],
      "execution_count": 9,
      "outputs": [
        {
          "output_type": "execute_result",
          "data": {
            "text/plain": [
              "array([0.77223038, 0.1654295 , 0.05503624, 0.00730387])"
            ]
          },
          "metadata": {
            "tags": []
          },
          "execution_count": 9
        }
      ]
    },
    {
      "cell_type": "code",
      "metadata": {
        "colab": {
          "base_uri": "https://localhost:8080/",
          "height": 368
        },
        "id": "HQx8Eia4ywai",
        "outputId": "885d7dee-1c4a-4d18-a259-ac04384f4cbc"
      },
      "source": [
        "plt.plot(pca.explained_variance_ratio_,marker=\"o\")\n",
        "plt.xlabel(\"n components\")\n",
        "plt.ylabel(\"explained_variance_ratio_\")\n",
        "plt.xticks([0,1,2,3],[\"1\",\"2\",\"3\",\"4\"])\n"
      ],
      "execution_count": 10,
      "outputs": [
        {
          "output_type": "execute_result",
          "data": {
            "text/plain": [
              "([<matplotlib.axis.XTick at 0x7f480386fb10>,\n",
              "  <matplotlib.axis.XTick at 0x7f480386fad0>,\n",
              "  <matplotlib.axis.XTick at 0x7f480386f6d0>,\n",
              "  <matplotlib.axis.XTick at 0x7f4803838750>],\n",
              " [Text(0, 0, '1'), Text(0, 0, '2'), Text(0, 0, '3'), Text(0, 0, '4')])"
            ]
          },
          "metadata": {
            "tags": []
          },
          "execution_count": 10
        },
        {
          "output_type": "display_data",
          "data": {
            "image/png": "[encoded data removed]",
            "text/plain": [
              "<Figure size 432x288 with 1 Axes>"
            ]
          },
          "metadata": {
            "tags": [],
            "needs_background": "light"
          }
        }
      ]
    },
    {
      "cell_type": "markdown",
      "metadata": {
        "id": "tCahV8HDzp9p"
      },
      "source": [
        "**Conclusion :** principal components are observed at 3"
      ]
    },
    {
      "cell_type": "code",
      "metadata": {
        "id": "USNRVSOa0qdX"
      },
      "source": [
        "pca=PCA(n_components=3)\n",
        "xtrain=pca.fit_transform(xtrain)\n",
        "xtest=pca.fit_transform(xtest)\n",
        "\n",
        "model=LogisticRegression()\n",
        "model.fit(xtrain,ytrain)\n",
        "\n",
        "ypred=model.predict(xtest)"
      ],
      "execution_count": 11,
      "outputs": []
    },
    {
      "cell_type": "code",
      "metadata": {
        "colab": {
          "base_uri": "https://localhost:8080/"
        },
        "id": "YEFalcps1K-z",
        "outputId": "3b684e09-db27-418b-ff61-f12f5e38c79f"
      },
      "source": [
        "print(\"Accuracy : \",accuracy_score(ytest,ypred))\n",
        "print(\"\\nReport :\\n\",classification_report(ytest,ypred))"
      ],
      "execution_count": 12,
      "outputs": [
        {
          "output_type": "stream",
          "text": [
            "Accuracy :  0.7666666666666667\n",
            "\n",
            "Report :\n",
            "               precision    recall  f1-score   support\n",
            "\n",
            "           0       1.00      1.00      1.00        11\n",
            "           1       1.00      0.46      0.63        13\n",
            "           2       0.46      1.00      0.63         6\n",
            "\n",
            "    accuracy                           0.77        30\n",
            "   macro avg       0.82      0.82      0.75        30\n",
            "weighted avg       0.89      0.77      0.77        30\n",
            "\n"
          ],
          "name": "stdout"
        }
      ]
    }
  ]
}